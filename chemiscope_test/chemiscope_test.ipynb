{
 "cells": [
  {
   "cell_type": "markdown",
   "metadata": {},
   "source": [
    "## Initialization cells"
   ]
  },
  {
   "cell_type": "code",
   "execution_count": 2,
   "metadata": {},
   "outputs": [],
   "source": [
    "import numpy as np\n",
    "import os\n",
    "import chemiscope\n",
    "import ase.io"
   ]
  },
  {
   "cell_type": "markdown",
   "metadata": {},
   "source": [
    "### test run"
   ]
  },
  {
   "cell_type": "code",
   "execution_count": 12,
   "metadata": {},
   "outputs": [],
   "source": [
    "# read frames using ase\n",
    "frames = ase.io.read(\"chemiscope_test.xyz\", \":\", format='xyz')"
   ]
  },
  {
   "cell_type": "code",
   "execution_count": 29,
   "metadata": {},
   "outputs": [],
   "source": [
    "# add additional properties to display\n",
    "properties = {\n",
    "    \"test_property1\": {\n",
    "        \"target\": \"structure\",\n",
    "        \"values\": np.random.randint(10,size=len(frames)),\n",
    "        \"description\": \"randint\"\n",
    "    },\n",
    "    \"test_property2\": {\n",
    "        \"target\": \"structure\",\n",
    "        \"values\": np.random.rand(len(frames))*10,\n",
    "        \"description\": \"rand\"\n",
    "    },\n",
    "    # pros of a 3rd variable in the widget: colormap, 3d plot, size of points\n",
    "    \"test_property3\": {\n",
    "        \"target\": \"structure\",\n",
    "        \"values\": np.arange(len(frames)),\n",
    "        \"description\": \"range\"     \n",
    "    }\n",
    "}\n",
    "chemiscope.write_input(\"my-input.json\", frames=frames, properties=properties)"
   ]
  },
  {
   "cell_type": "code",
   "execution_count": 30,
   "metadata": {},
   "outputs": [
    {
     "data": {
      "application/vnd.jupyter.widget-view+json": {
       "model_id": "2fe43be9708d4ff3aa4cca8d22a13fc9",
       "version_major": 2,
       "version_minor": 0
      },
      "text/plain": [
       "ChemiscopeWidget(value='{\"meta\": {\"name\": \" \"}, \"structures\": [{\"size\": 99, \"names\": [\"Ti\", \"C\", \"C\", \"C\", \"N\"…"
      ]
     },
     "execution_count": 30,
     "metadata": {},
     "output_type": "execute_result"
    }
   ],
   "source": [
    "widget = chemiscope.show(frames, properties)\n",
    "# display the dataset in a chemiscope visualizer inside the notebook\n",
    "widget"
   ]
  },
  {
   "cell_type": "code",
   "execution_count": 31,
   "metadata": {},
   "outputs": [],
   "source": [
    "widget.close()"
   ]
  }
 ],
 "metadata": {
  "kernelspec": {
   "display_name": "viz-env",
   "language": "python",
   "name": "python3"
  },
  "language_info": {
   "codemirror_mode": {
    "name": "ipython",
    "version": 3
   },
   "file_extension": ".py",
   "mimetype": "text/x-python",
   "name": "python",
   "nbconvert_exporter": "python",
   "pygments_lexer": "ipython3",
   "version": "3.8.12"
  },
  "orig_nbformat": 4,
  "vscode": {
   "interpreter": {
    "hash": "a19cc7c5d8caa1ffe3eea054c5943d129666547c8fe410cf5b58f78c0e9ff1b1"
   }
  }
 },
 "nbformat": 4,
 "nbformat_minor": 2
}
